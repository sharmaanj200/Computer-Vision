{
 "cells": [
  {
   "cell_type": "code",
   "execution_count": 1,
   "id": "8b4ffcff",
   "metadata": {},
   "outputs": [],
   "source": [
    "import math\n",
    "\n",
    "class Vector:\n",
    "    def __init__(self, components):\n",
    "        self.components = components\n",
    "        \n",
    "    def __str__(self):\n",
    "        return f\"Vector({self.components})\"\n",
    "    \n",
    "    def length(self):\n",
    "        return math.sqrt(sum(x**2 for x in self.components))\n",
    "    \n",
    "    @staticmethod\n",
    "    def dot_product(v1, v2):\n",
    "        return sum(x * y for x, y in zip(v1.components, v2.components))\n",
    "    \n",
    "    @staticmethod\n",
    "    def cosine_similarity(v1, v2):\n",
    "        return Vector.dot_product(v1, v2) / (v1.length() * v2.length())\n",
    "    \n",
    "    @staticmethod\n",
    "    def euclidean_distance(v1, v2):\n",
    "        return math.sqrt(sum((x - y)**2 for x, y in zip(v1.components, v2.components)))\n",
    "    \n",
    "    # Additional method to validate if the other vector is compatible for operations\n",
    "    @staticmethod\n",
    "    def validate(v1, v2):\n",
    "        if len(v1.components) != len(v2.components):\n",
    "            raise ValueError(\"Vectors must be of the same dimension.\")"
   ]
  },
  {
   "cell_type": "code",
   "execution_count": 2,
   "id": "1c1c0f69",
   "metadata": {},
   "outputs": [
    {
     "name": "stdout",
     "output_type": "stream",
     "text": [
      "Length of v1: 3.7416573867739413\n",
      "Length of v2: 8.774964387392123\n",
      "Cosine Similarity between v1 and v2: 0.9746318461970762\n",
      "Euclidean Distance between v1 and v2: 5.196152422706632\n"
     ]
    }
   ],
   "source": [
    "v1 = Vector([1, 2, 3])\n",
    "v2 = Vector([4, 5, 6])\n",
    "\n",
    "print(f\"Length of v1: {v1.length()}\")\n",
    "print(f\"Length of v2: {v2.length()}\")\n",
    "\n",
    "try:\n",
    "    Vector.validate(v1, v2)\n",
    "    print(f\"Cosine Similarity between v1 and v2: {Vector.cosine_similarity(v1, v2)}\")\n",
    "    print(f\"Euclidean Distance between v1 and v2: {Vector.euclidean_distance(v1, v2)}\")\n",
    "except ValueError as e:\n",
    "    print(e)"
   ]
  },
  {
   "cell_type": "code",
   "execution_count": 13,
   "id": "e37d8cd6",
   "metadata": {},
   "outputs": [
    {
     "data": {
      "text/plain": [
       "'\\nQuestion number 6:\\n'"
      ]
     },
     "execution_count": 13,
     "metadata": {},
     "output_type": "execute_result"
    }
   ],
   "source": [
    "\"\"\"\n",
    "Question number 6:\n",
    "\n",
    "Download the dataset and solve questions that follow. Follow any tutorial on ‘python data frame’.\n",
    "https://github.com/fivethirtyeight/data/blob/master/us-weather-history/KCLT.csv\n",
    "\n",
    "Load the csv file of the dataset into a dataframe in Python program.\n",
    "\n",
    "(i) Find the mean, median, mode, min and max for all numeric attributes.\n",
    "(ii) Print the top 20% of rows showing only the first four columns.\n",
    "(iii) Create a new column (call it ‘newColumn’), it should have the same values as the column ‘actual_mean_temp’. Print head of dataframe.\n",
    "(iv) Remove the new column that you have created above. Print head of dataframe.\n",
    "(v) Print the first 10 rows, then remove the row containing data of ‘2014-7-3’, save this row in a variable of type series (data structure). Print the first 10 rows after removal of the row. \n",
    "(vi) Add the row that you deleted before. Print the first 10 rows again.\n",
    "(vii) Update the actual_min_temp in the data row for date ‘2014-7-3’ to any value. Print the updated row.\n",
    "(viii) Add 5 to the ‘actual_mean_temp’ wherever the ‘actual_min_temp’ is odd. Do this only on the top 10 rows. Print these 10 rows before and after the operation.\n",
    "(ix) Print only those rows where the absolute difference between the ‘record_min_temp_year’ and ‘record_max_temp_year’ is less than 30.\n",
    "\n",
    "\"\"\""
   ]
  },
  {
   "cell_type": "code",
   "execution_count": 6,
   "id": "554676d4",
   "metadata": {},
   "outputs": [],
   "source": [
    "import pandas as pd\n",
    "\n",
    "df = pd.read_csv('./dataset.csv')"
   ]
  },
  {
   "cell_type": "code",
   "execution_count": 7,
   "id": "3affe6fe",
   "metadata": {},
   "outputs": [
    {
     "name": "stderr",
     "output_type": "stream",
     "text": [
      "C:\\Users\\sharm\\AppData\\Local\\Temp\\ipykernel_18120\\3038467128.py:2: FutureWarning: Dropping of nuisance columns in DataFrame reductions (with 'numeric_only=None') is deprecated; in a future version this will raise TypeError.  Select only valid columns before calling the reduction.\n",
      "  mean_values = df.mean()\n",
      "C:\\Users\\sharm\\AppData\\Local\\Temp\\ipykernel_18120\\3038467128.py:3: FutureWarning: Dropping of nuisance columns in DataFrame reductions (with 'numeric_only=None') is deprecated; in a future version this will raise TypeError.  Select only valid columns before calling the reduction.\n",
      "  median_values = df.median()\n"
     ]
    }
   ],
   "source": [
    "# Find the mean, median, mode, min and max for all numeric attributes.\n",
    "mean_values = df.mean()\n",
    "median_values = df.median()\n",
    "mode_values = df.mode().iloc[0] \n",
    "min_values = df.min()\n",
    "max_values = df.max()"
   ]
  },
  {
   "cell_type": "code",
   "execution_count": 8,
   "id": "6374dd7f",
   "metadata": {},
   "outputs": [
    {
     "name": "stdout",
     "output_type": "stream",
     "text": [
      "actual_mean_temp           61.049315\n",
      "actual_min_temp            49.958904\n",
      "actual_max_temp            71.630137\n",
      "average_min_temp           48.819178\n",
      "average_max_temp           70.983562\n",
      "record_min_temp            31.465753\n",
      "record_max_temp            88.728767\n",
      "record_min_temp_year     1953.279452\n",
      "record_max_temp_year     1953.989041\n",
      "actual_precipitation        0.102411\n",
      "average_precipitation       0.114082\n",
      "record_precipitation        2.208904\n",
      "dtype: float64\n"
     ]
    }
   ],
   "source": [
    "print(mean_values)"
   ]
  },
  {
   "cell_type": "code",
   "execution_count": 9,
   "id": "f8256b64",
   "metadata": {},
   "outputs": [
    {
     "name": "stdout",
     "output_type": "stream",
     "text": [
      "actual_mean_temp           63.00\n",
      "actual_min_temp            52.00\n",
      "actual_max_temp            73.00\n",
      "average_min_temp           48.00\n",
      "average_max_temp           72.00\n",
      "record_min_temp            30.00\n",
      "record_max_temp            90.00\n",
      "record_min_temp_year     1963.00\n",
      "record_max_temp_year     1953.00\n",
      "actual_precipitation        0.00\n",
      "average_precipitation       0.11\n",
      "record_precipitation        1.98\n",
      "dtype: float64\n"
     ]
    }
   ],
   "source": [
    "print(median_values)"
   ]
  },
  {
   "cell_type": "code",
   "execution_count": 10,
   "id": "10f197c2",
   "metadata": {},
   "outputs": [
    {
     "name": "stdout",
     "output_type": "stream",
     "text": [
      "date                     2014-10-1\n",
      "actual_mean_temp              78.0\n",
      "actual_min_temp               67.0\n",
      "actual_max_temp               84.0\n",
      "average_min_temp              68.0\n",
      "average_max_temp              89.0\n",
      "record_min_temp               53.0\n",
      "record_max_temp              100.0\n",
      "record_min_temp_year        1967.0\n",
      "record_max_temp_year        1954.0\n",
      "actual_precipitation           0.0\n",
      "average_precipitation         0.11\n",
      "record_precipitation          1.65\n",
      "Name: 0, dtype: object\n"
     ]
    }
   ],
   "source": [
    "print(mode_values)"
   ]
  },
  {
   "cell_type": "code",
   "execution_count": 11,
   "id": "931477e2",
   "metadata": {},
   "outputs": [
    {
     "name": "stdout",
     "output_type": "stream",
     "text": [
      "date                     2014-10-1\n",
      "actual_mean_temp                18\n",
      "actual_min_temp                  7\n",
      "actual_max_temp                 26\n",
      "average_min_temp                29\n",
      "average_max_temp                50\n",
      "record_min_temp                 -5\n",
      "record_max_temp                 69\n",
      "record_min_temp_year          1879\n",
      "record_max_temp_year          1879\n",
      "actual_precipitation           0.0\n",
      "average_precipitation         0.09\n",
      "record_precipitation          0.85\n",
      "dtype: object\n"
     ]
    }
   ],
   "source": [
    "print(min_values)"
   ]
  },
  {
   "cell_type": "code",
   "execution_count": 12,
   "id": "13a4c7b2",
   "metadata": {},
   "outputs": [
    {
     "name": "stdout",
     "output_type": "stream",
     "text": [
      "date                     2015-6-9\n",
      "actual_mean_temp               88\n",
      "actual_min_temp                75\n",
      "actual_max_temp               100\n",
      "average_min_temp               68\n",
      "average_max_temp               89\n",
      "record_min_temp                62\n",
      "record_max_temp               104\n",
      "record_min_temp_year         2015\n",
      "record_max_temp_year         2015\n",
      "actual_precipitation         2.65\n",
      "average_precipitation        0.15\n",
      "record_precipitation         6.88\n",
      "dtype: object\n"
     ]
    }
   ],
   "source": [
    "print(max_values)"
   ]
  },
  {
   "cell_type": "code",
   "execution_count": 14,
   "id": "fbccdb14",
   "metadata": {},
   "outputs": [
    {
     "name": "stdout",
     "output_type": "stream",
     "text": [
      "         date  actual_mean_temp  actual_min_temp  actual_max_temp\n",
      "0    2014-7-1                81               70               91\n",
      "1    2014-7-2                85               74               95\n",
      "2    2014-7-3                82               71               93\n",
      "3    2014-7-4                75               64               86\n",
      "4    2014-7-5                72               60               84\n",
      "..        ...               ...              ...              ...\n",
      "68   2014-9-7                79               70               88\n",
      "69   2014-9-8                70               67               73\n",
      "70   2014-9-9                72               66               77\n",
      "71  2014-9-10                72               65               79\n",
      "72  2014-9-11                77               64               89\n",
      "\n",
      "[73 rows x 4 columns]\n"
     ]
    }
   ],
   "source": [
    "# Calculate the number of rows to display as top 20%\n",
    "num_rows = int(len(df) * 0.2)\n",
    "\n",
    "# Print the top 20% of rows showing only the first four columns\n",
    "print(df.iloc[:num_rows, :4])\n"
   ]
  },
  {
   "cell_type": "code",
   "execution_count": 15,
   "id": "7f2d3cba",
   "metadata": {},
   "outputs": [
    {
     "name": "stdout",
     "output_type": "stream",
     "text": [
      "       date  actual_mean_temp  actual_min_temp  actual_max_temp  \\\n",
      "0  2014-7-1                81               70               91   \n",
      "1  2014-7-2                85               74               95   \n",
      "2  2014-7-3                82               71               93   \n",
      "3  2014-7-4                75               64               86   \n",
      "4  2014-7-5                72               60               84   \n",
      "\n",
      "   average_min_temp  average_max_temp  record_min_temp  record_max_temp  \\\n",
      "0                67                89               56              104   \n",
      "1                68                89               56              101   \n",
      "2                68                89               56               99   \n",
      "3                68                89               55               99   \n",
      "4                68                89               57              100   \n",
      "\n",
      "   record_min_temp_year  record_max_temp_year  actual_precipitation  \\\n",
      "0                  1919                  2012                  0.00   \n",
      "1                  2008                  1931                  0.00   \n",
      "2                  2010                  1931                  0.14   \n",
      "3                  1933                  1955                  0.00   \n",
      "4                  1967                  1954                  0.00   \n",
      "\n",
      "   average_precipitation  record_precipitation  newColumn  \n",
      "0                   0.10                  5.91         81  \n",
      "1                   0.10                  1.53         85  \n",
      "2                   0.11                  2.50         82  \n",
      "3                   0.10                  2.63         75  \n",
      "4                   0.10                  1.65         72  \n"
     ]
    }
   ],
   "source": [
    "# Add a new column with the same values as 'actual_mean_temp'\n",
    "df['newColumn'] = df['actual_mean_temp']\n",
    "\n",
    "# Print the head of the dataframe\n",
    "print(df.head())\n"
   ]
  },
  {
   "cell_type": "code",
   "execution_count": 16,
   "id": "e8cd118f",
   "metadata": {},
   "outputs": [
    {
     "name": "stdout",
     "output_type": "stream",
     "text": [
      "       date  actual_mean_temp  actual_min_temp  actual_max_temp  \\\n",
      "0  2014-7-1                81               70               91   \n",
      "1  2014-7-2                85               74               95   \n",
      "2  2014-7-3                82               71               93   \n",
      "3  2014-7-4                75               64               86   \n",
      "4  2014-7-5                72               60               84   \n",
      "\n",
      "   average_min_temp  average_max_temp  record_min_temp  record_max_temp  \\\n",
      "0                67                89               56              104   \n",
      "1                68                89               56              101   \n",
      "2                68                89               56               99   \n",
      "3                68                89               55               99   \n",
      "4                68                89               57              100   \n",
      "\n",
      "   record_min_temp_year  record_max_temp_year  actual_precipitation  \\\n",
      "0                  1919                  2012                  0.00   \n",
      "1                  2008                  1931                  0.00   \n",
      "2                  2010                  1931                  0.14   \n",
      "3                  1933                  1955                  0.00   \n",
      "4                  1967                  1954                  0.00   \n",
      "\n",
      "   average_precipitation  record_precipitation  \n",
      "0                   0.10                  5.91  \n",
      "1                   0.10                  1.53  \n",
      "2                   0.11                  2.50  \n",
      "3                   0.10                  2.63  \n",
      "4                   0.10                  1.65  \n"
     ]
    }
   ],
   "source": [
    "# Remove the 'newColumn'\n",
    "df.drop(columns=['newColumn'], inplace=True)\n",
    "\n",
    "# Print the head of the dataframe\n",
    "print(df.head())\n"
   ]
  },
  {
   "cell_type": "code",
   "execution_count": 17,
   "id": "eb00314a",
   "metadata": {},
   "outputs": [
    {
     "name": "stdout",
     "output_type": "stream",
     "text": [
      "        date  actual_mean_temp  actual_min_temp  actual_max_temp  \\\n",
      "0   2014-7-1                81               70               91   \n",
      "1   2014-7-2                85               74               95   \n",
      "2   2014-7-3                82               71               93   \n",
      "3   2014-7-4                75               64               86   \n",
      "4   2014-7-5                72               60               84   \n",
      "5   2014-7-6                74               61               87   \n",
      "6   2014-7-7                79               67               91   \n",
      "7   2014-7-8                83               72               94   \n",
      "8   2014-7-9                80               71               89   \n",
      "9  2014-7-10                78               71               85   \n",
      "\n",
      "   average_min_temp  average_max_temp  record_min_temp  record_max_temp  \\\n",
      "0                67                89               56              104   \n",
      "1                68                89               56              101   \n",
      "2                68                89               56               99   \n",
      "3                68                89               55               99   \n",
      "4                68                89               57              100   \n",
      "5                68                89               57               99   \n",
      "6                68                89               55              100   \n",
      "7                68                89               58              101   \n",
      "8                68                89               57              101   \n",
      "9                68                89               53              101   \n",
      "\n",
      "   record_min_temp_year  record_max_temp_year  actual_precipitation  \\\n",
      "0                  1919                  2012                  0.00   \n",
      "1                  2008                  1931                  0.00   \n",
      "2                  2010                  1931                  0.14   \n",
      "3                  1933                  1955                  0.00   \n",
      "4                  1967                  1954                  0.00   \n",
      "5                  1964                  1948                  0.00   \n",
      "6                  1972                  1954                  0.00   \n",
      "7                  1892                  2010                  0.00   \n",
      "8                  1891                  1986                  0.15   \n",
      "9                  1961                  1926                  0.00   \n",
      "\n",
      "   average_precipitation  record_precipitation  \n",
      "0                   0.10                  5.91  \n",
      "1                   0.10                  1.53  \n",
      "2                   0.11                  2.50  \n",
      "3                   0.10                  2.63  \n",
      "4                   0.10                  1.65  \n",
      "5                   0.10                  1.95  \n",
      "6                   0.11                  2.37  \n",
      "7                   0.11                  1.87  \n",
      "8                   0.12                  3.71  \n",
      "9                   0.11                  2.45  \n",
      "         date  actual_mean_temp  actual_min_temp  actual_max_temp  \\\n",
      "0    2014-7-1                81               70               91   \n",
      "1    2014-7-2                85               74               95   \n",
      "3    2014-7-4                75               64               86   \n",
      "4    2014-7-5                72               60               84   \n",
      "5    2014-7-6                74               61               87   \n",
      "6    2014-7-7                79               67               91   \n",
      "7    2014-7-8                83               72               94   \n",
      "8    2014-7-9                80               71               89   \n",
      "9   2014-7-10                78               71               85   \n",
      "10  2014-7-11                78               68               87   \n",
      "\n",
      "    average_min_temp  average_max_temp  record_min_temp  record_max_temp  \\\n",
      "0                 67                89               56              104   \n",
      "1                 68                89               56              101   \n",
      "3                 68                89               55               99   \n",
      "4                 68                89               57              100   \n",
      "5                 68                89               57               99   \n",
      "6                 68                89               55              100   \n",
      "7                 68                89               58              101   \n",
      "8                 68                89               57              101   \n",
      "9                 68                89               53              101   \n",
      "10                68                89               55              100   \n",
      "\n",
      "    record_min_temp_year  record_max_temp_year  actual_precipitation  \\\n",
      "0                   1919                  2012                  0.00   \n",
      "1                   2008                  1931                  0.00   \n",
      "3                   1933                  1955                  0.00   \n",
      "4                   1967                  1954                  0.00   \n",
      "5                   1964                  1948                  0.00   \n",
      "6                   1972                  1954                  0.00   \n",
      "7                   1892                  2010                  0.00   \n",
      "8                   1891                  1986                  0.15   \n",
      "9                   1961                  1926                  0.00   \n",
      "10                  1961                  1986                  0.00   \n",
      "\n",
      "    average_precipitation  record_precipitation  \n",
      "0                    0.10                  5.91  \n",
      "1                    0.10                  1.53  \n",
      "3                    0.10                  2.63  \n",
      "4                    0.10                  1.65  \n",
      "5                    0.10                  1.95  \n",
      "6                    0.11                  2.37  \n",
      "7                    0.11                  1.87  \n",
      "8                    0.12                  3.71  \n",
      "9                    0.11                  2.45  \n",
      "10                   0.12                  3.10  \n"
     ]
    }
   ],
   "source": [
    "# Print the first 10 rows\n",
    "print(df.head(10))\n",
    "\n",
    "# Remove the row for '2014-7-3'\n",
    "dropped_row = df[df['date'] == '2014-7-3']\n",
    "df = df[df['date'] != '2014-7-3'].copy()\n",
    "\n",
    "# Print the first 10 rows after removal\n",
    "print(df.head(10))\n",
    "\n",
    "# Save the dropped row in a variable of type Series\n",
    "dropped_series = dropped_row.squeeze()\n"
   ]
  },
  {
   "cell_type": "code",
   "execution_count": 18,
   "id": "4f6fa58d",
   "metadata": {},
   "outputs": [
    {
     "name": "stdout",
     "output_type": "stream",
     "text": [
      "        date  actual_mean_temp  actual_min_temp  actual_max_temp  \\\n",
      "0 2014-07-01                81               70               91   \n",
      "1 2014-07-02                85               74               95   \n",
      "2 2014-07-03                82               71               93   \n",
      "3 2014-07-04                75               64               86   \n",
      "4 2014-07-05                72               60               84   \n",
      "5 2014-07-06                74               61               87   \n",
      "6 2014-07-07                79               67               91   \n",
      "7 2014-07-08                83               72               94   \n",
      "8 2014-07-09                80               71               89   \n",
      "9 2014-07-10                78               71               85   \n",
      "\n",
      "   average_min_temp  average_max_temp  record_min_temp  record_max_temp  \\\n",
      "0                67                89               56              104   \n",
      "1                68                89               56              101   \n",
      "2                68                89               56               99   \n",
      "3                68                89               55               99   \n",
      "4                68                89               57              100   \n",
      "5                68                89               57               99   \n",
      "6                68                89               55              100   \n",
      "7                68                89               58              101   \n",
      "8                68                89               57              101   \n",
      "9                68                89               53              101   \n",
      "\n",
      "   record_min_temp_year  record_max_temp_year  actual_precipitation  \\\n",
      "0                  1919                  2012                  0.00   \n",
      "1                  2008                  1931                  0.00   \n",
      "2                  2010                  1931                  0.14   \n",
      "3                  1933                  1955                  0.00   \n",
      "4                  1967                  1954                  0.00   \n",
      "5                  1964                  1948                  0.00   \n",
      "6                  1972                  1954                  0.00   \n",
      "7                  1892                  2010                  0.00   \n",
      "8                  1891                  1986                  0.15   \n",
      "9                  1961                  1926                  0.00   \n",
      "\n",
      "   average_precipitation  record_precipitation  \n",
      "0                   0.10                  5.91  \n",
      "1                   0.10                  1.53  \n",
      "2                   0.11                  2.50  \n",
      "3                   0.10                  2.63  \n",
      "4                   0.10                  1.65  \n",
      "5                   0.10                  1.95  \n",
      "6                   0.11                  2.37  \n",
      "7                   0.11                  1.87  \n",
      "8                   0.12                  3.71  \n",
      "9                   0.11                  2.45  \n"
     ]
    }
   ],
   "source": [
    "# Add the row back to the DataFrame\n",
    "df = pd.concat([df, dropped_row])\n",
    "\n",
    "# Sorting by date to maintain order after adding the row back\n",
    "df['date'] = pd.to_datetime(df['date'])\n",
    "df.sort_values('date', inplace=True)\n",
    "\n",
    "# Print the first 10 rows after adding the row back\n",
    "print(df.head(10))\n"
   ]
  },
  {
   "cell_type": "code",
   "execution_count": 22,
   "id": "d874a5e3",
   "metadata": {},
   "outputs": [
    {
     "name": "stdout",
     "output_type": "stream",
     "text": [
      "        date  actual_mean_temp  actual_min_temp  actual_max_temp  \\\n",
      "2 2014-07-03                82               70               93   \n",
      "\n",
      "   average_min_temp  average_max_temp  record_min_temp  record_max_temp  \\\n",
      "2                68                89               56               99   \n",
      "\n",
      "   record_min_temp_year  record_max_temp_year  actual_precipitation  \\\n",
      "2                  2010                  1931                  0.14   \n",
      "\n",
      "   average_precipitation  record_precipitation  \n",
      "2                   0.11                   2.5  \n"
     ]
    }
   ],
   "source": [
    "# Update 'actual_min_temp' for '2014-7-3'\n",
    "df.loc[df['date'] == '2014-7-3', 'actual_min_temp'] = 70\n",
    "\n",
    "# Print the updated row\n",
    "print(df[df['date'] == '2014-7-3'])\n"
   ]
  },
  {
   "cell_type": "code",
   "execution_count": 25,
   "id": "7708be5c",
   "metadata": {},
   "outputs": [
    {
     "name": "stdout",
     "output_type": "stream",
     "text": [
      "        date  actual_mean_temp  actual_min_temp  actual_max_temp  \\\n",
      "0 2014-07-01              81.0             70.0             91.0   \n",
      "1 2014-07-02              85.0             74.0             95.0   \n",
      "2 2014-07-03              82.0             70.0             93.0   \n",
      "3 2014-07-04              75.0             64.0             86.0   \n",
      "4 2014-07-05              72.0             60.0             84.0   \n",
      "5 2014-07-06              79.0             61.0             87.0   \n",
      "6 2014-07-07              84.0             67.0             91.0   \n",
      "7 2014-07-08              83.0             72.0             94.0   \n",
      "8 2014-07-09              85.0             71.0             89.0   \n",
      "9 2014-07-10              83.0             71.0             85.0   \n",
      "\n",
      "   average_min_temp  average_max_temp  record_min_temp  record_max_temp  \\\n",
      "0              67.0              89.0             56.0            104.0   \n",
      "1              68.0              89.0             56.0            101.0   \n",
      "2              68.0              89.0             56.0             99.0   \n",
      "3              68.0              89.0             55.0             99.0   \n",
      "4              68.0              89.0             57.0            100.0   \n",
      "5              68.0              89.0             57.0             99.0   \n",
      "6              68.0              89.0             55.0            100.0   \n",
      "7              68.0              89.0             58.0            101.0   \n",
      "8              68.0              89.0             57.0            101.0   \n",
      "9              68.0              89.0             53.0            101.0   \n",
      "\n",
      "   record_min_temp_year  record_max_temp_year  actual_precipitation  \\\n",
      "0                1919.0                2012.0                  0.00   \n",
      "1                2008.0                1931.0                  0.00   \n",
      "2                2010.0                1931.0                  0.14   \n",
      "3                1933.0                1955.0                  0.00   \n",
      "4                1967.0                1954.0                  0.00   \n",
      "5                1964.0                1948.0                  0.00   \n",
      "6                1972.0                1954.0                  0.00   \n",
      "7                1892.0                2010.0                  0.00   \n",
      "8                1891.0                1986.0                  0.15   \n",
      "9                1961.0                1926.0                  0.00   \n",
      "\n",
      "   average_precipitation  record_precipitation  \n",
      "0                   0.10                  5.91  \n",
      "1                   0.10                  1.53  \n",
      "2                   0.11                  2.50  \n",
      "3                   0.10                  2.63  \n",
      "4                   0.10                  1.65  \n",
      "5                   0.10                  1.95  \n",
      "6                   0.11                  2.37  \n",
      "7                   0.11                  1.87  \n",
      "8                   0.12                  3.71  \n",
      "9                   0.11                  2.45  \n"
     ]
    }
   ],
   "source": [
    "# Select top 10 rows\n",
    "top_10_rows = df.head(10)\n",
    "\n",
    "# Update 'actual_mean_temp' adding 5 where 'actual_min_temp' is odd\n",
    "top_10_rows.loc[top_10_rows['actual_min_temp'] % 2 != 0, 'actual_mean_temp'] += 5\n",
    "\n",
    "# Assign the updated top 10 rows back to the main dataframe\n",
    "df.update(top_10_rows)\n",
    "\n",
    "# Display the updated top 10 rows\n",
    "print(df.head(10))"
   ]
  },
  {
   "cell_type": "code",
   "execution_count": 23,
   "id": "5a47d416",
   "metadata": {},
   "outputs": [
    {
     "name": "stdout",
     "output_type": "stream",
     "text": [
      "          date  actual_mean_temp  actual_min_temp  actual_max_temp  \\\n",
      "3   2014-07-04                75               64               86   \n",
      "4   2014-07-05                72               60               84   \n",
      "5   2014-07-06                74               61               87   \n",
      "6   2014-07-07                79               67               91   \n",
      "10  2014-07-11                78               68               87   \n",
      "..         ...               ...              ...              ...   \n",
      "354 2015-06-20                83               71               95   \n",
      "356 2015-06-22                83               65              100   \n",
      "359 2015-06-25                86               74               98   \n",
      "360 2015-06-26                85               70              100   \n",
      "362 2015-06-28                76               66               85   \n",
      "\n",
      "     average_min_temp  average_max_temp  record_min_temp  record_max_temp  \\\n",
      "3                  68                89               55               99   \n",
      "4                  68                89               57              100   \n",
      "5                  68                89               57               99   \n",
      "6                  68                89               55              100   \n",
      "10                 68                89               55              100   \n",
      "..                ...               ...              ...              ...   \n",
      "354                66                87               54              102   \n",
      "356                66                87               53              100   \n",
      "359                67                88               53              102   \n",
      "360                67                88               55              102   \n",
      "362                67                88               53              101   \n",
      "\n",
      "     record_min_temp_year  record_max_temp_year  actual_precipitation  \\\n",
      "3                    1933                  1955                  0.00   \n",
      "4                    1967                  1954                  0.00   \n",
      "5                    1964                  1948                  0.00   \n",
      "6                    1972                  1954                  0.00   \n",
      "10                   1961                  1986                  0.00   \n",
      "..                    ...                   ...                   ...   \n",
      "354                  1879                  1887                  0.01   \n",
      "356                  2003                  2015                  0.00   \n",
      "359                  1889                  1914                  0.00   \n",
      "360                  1979                  1952                  1.21   \n",
      "362                  1968                  1959                  0.00   \n",
      "\n",
      "     average_precipitation  record_precipitation  \n",
      "3                     0.10                  2.63  \n",
      "4                     0.10                  1.65  \n",
      "5                     0.10                  1.95  \n",
      "6                     0.11                  2.37  \n",
      "10                    0.12                  3.10  \n",
      "..                     ...                   ...  \n",
      "354                   0.12                  1.67  \n",
      "356                   0.12                  1.31  \n",
      "359                   0.11                  2.76  \n",
      "360                   0.11                  1.98  \n",
      "362                   0.11                  1.83  \n",
      "\n",
      "[144 rows x 13 columns]\n"
     ]
    }
   ],
   "source": [
    "# Print the rows with absolute difference less than 30\n",
    "diff_less_than_30 = df[abs(df['record_min_temp_year'] - df['record_max_temp_year']) < 30]\n",
    "print(diff_less_than_30)\n"
   ]
  },
  {
   "cell_type": "code",
   "execution_count": null,
   "id": "783527d0",
   "metadata": {},
   "outputs": [],
   "source": []
  }
 ],
 "metadata": {
  "kernelspec": {
   "display_name": "Python 3 (ipykernel)",
   "language": "python",
   "name": "python3"
  },
  "language_info": {
   "codemirror_mode": {
    "name": "ipython",
    "version": 3
   },
   "file_extension": ".py",
   "mimetype": "text/x-python",
   "name": "python",
   "nbconvert_exporter": "python",
   "pygments_lexer": "ipython3",
   "version": "3.9.13"
  }
 },
 "nbformat": 4,
 "nbformat_minor": 5
}
