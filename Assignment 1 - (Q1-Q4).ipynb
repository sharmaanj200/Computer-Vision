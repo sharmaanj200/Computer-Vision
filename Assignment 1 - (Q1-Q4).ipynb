{
 "cells": [
  {
   "cell_type": "code",
   "execution_count": 8,
   "id": "4250ced9",
   "metadata": {},
   "outputs": [],
   "source": [
    "# Question number 1:\n",
    "# Write a python program to find the sum of first N natural numbers, take N as input from the user. \n",
    "# For example if N=4, then output is 10, computed as 1+2+3+4=10."
   ]
  },
  {
   "cell_type": "code",
   "execution_count": 64,
   "id": "83b153a3",
   "metadata": {},
   "outputs": [
    {
     "name": "stdout",
     "output_type": "stream",
     "text": [
      "Enter input : 6\n",
      "Sum of 6 natural numbers is : 21\n"
     ]
    }
   ],
   "source": [
    "n = int(input(\"Enter input : \"))\n",
    "totalsum = 0\n",
    "for i in range(1, n+1):\n",
    "    totalsum += i\n",
    "print(f\"Sum of {n} natural numbers is : {sum}\")"
   ]
  },
  {
   "cell_type": "code",
   "execution_count": 9,
   "id": "4d7b6c34",
   "metadata": {},
   "outputs": [],
   "source": [
    "# Question number 2\n",
    "# Write a python program which defines a function myMerge (list1, list2) which merges two input sorted linked lists list1 and list2. \n",
    "# First also check whether the input lists are sorted or not, write a function isSorted (list)."
   ]
  },
  {
   "cell_type": "code",
   "execution_count": 65,
   "id": "a293b51a",
   "metadata": {},
   "outputs": [],
   "source": [
    "def isSorted(list1: list) -> bool:\n",
    "    temp = list1\n",
    "    temp.sort();\n",
    "    return temp == list1\n",
    "    \n",
    "def myMerge(list1 : list, list2 : list) -> list:\n",
    "    if isSorted(list1) == False:\n",
    "        list1.sort()\n",
    "    if isSorted(list2) == False:\n",
    "        list2.sort()\n",
    "    \n",
    "    n = len(list1)\n",
    "    m = len(list2)\n",
    "    ans = []\n",
    "    i = 0\n",
    "    j = 0\n",
    "    \n",
    "    while i < n and j < m:\n",
    "        if list1[i] < list2[j]:\n",
    "            ans.append(list1[i])\n",
    "            i+=1\n",
    "        else:\n",
    "            ans.append(list2[j])\n",
    "            j+=1\n",
    "        \n",
    "    while i < n:\n",
    "        ans.append(list1[i])\n",
    "        i+=1\n",
    "    \n",
    "    while j < m:\n",
    "        ans.append(list2[j])\n",
    "        j+=1\n",
    "    \n",
    "    return ans"
   ]
  },
  {
   "cell_type": "code",
   "execution_count": 66,
   "id": "b6a17cc4",
   "metadata": {},
   "outputs": [
    {
     "data": {
      "text/plain": [
       "[1, 2, 3, 4, 6, 6, 7, 9]"
      ]
     },
     "execution_count": 66,
     "metadata": {},
     "output_type": "execute_result"
    }
   ],
   "source": [
    "myMerge([6, 2, 7, 1], [9, 6, 4, 3])"
   ]
  },
  {
   "cell_type": "code",
   "execution_count": 23,
   "id": "229289cb",
   "metadata": {},
   "outputs": [],
   "source": [
    "# Question number 3:\n",
    "\n",
    "# Write a python program which defines a function isStrongPassword (myString) which takes an input string myString and returns True or False depending on whether the input string is a strong password. \n",
    "# A password is strong if it follows the following conditions:\n",
    "# It contains at least one lowercase and one uppercase English character.\n",
    "# It contains at least one special character (allowed special characters are: !, $, *, @, #. \n",
    "# Its length is at least 8.\n",
    "# It contains at least one digit."
   ]
  },
  {
   "cell_type": "code",
   "execution_count": 67,
   "id": "8febcd10",
   "metadata": {},
   "outputs": [],
   "source": [
    "def isStrong(password: str) -> bool:\n",
    "    lowerCase = False\n",
    "    upperCase = False\n",
    "    specialChar = False\n",
    "    digit = False\n",
    "    spcl = ['!', '$', '*', '@', '#']\n",
    "    number = ['0', '1', '2', '3', '4', '5', '6', '7', '8', '9']\n",
    "    \n",
    "    if len(password) < 8:\n",
    "        return \"Length of password should be greater than 8, change your password\"\n",
    "    for char in password:\n",
    "        if char.isupper():\n",
    "            upperCase = True\n",
    "        if char.islower():\n",
    "            lowerCase = True\n",
    "        if char in spcl:\n",
    "            specialChar = True\n",
    "        if char in number:\n",
    "            digit = True\n",
    "    \n",
    "    if digit and specialChar and upperCase and lowerCase:\n",
    "        return \"You Have a strong password!\"\n",
    "    \n",
    "    return \"You should change your password to a stronger password, look at the rules.\""
   ]
  },
  {
   "cell_type": "code",
   "execution_count": 68,
   "id": "1b674cab",
   "metadata": {},
   "outputs": [
    {
     "data": {
      "text/plain": [
       "'You should change your password to a stronger password, look at the rules.'"
      ]
     },
     "execution_count": 68,
     "metadata": {},
     "output_type": "execute_result"
    }
   ],
   "source": [
    "isStrong(\"#anjali1234\")"
   ]
  },
  {
   "cell_type": "code",
   "execution_count": 69,
   "id": "6776bc63",
   "metadata": {},
   "outputs": [
    {
     "data": {
      "text/plain": [
       "'Length of password should be greater than 8, change your password'"
      ]
     },
     "execution_count": 69,
     "metadata": {},
     "output_type": "execute_result"
    }
   ],
   "source": [
    "isStrong(\"Anjali\")"
   ]
  },
  {
   "cell_type": "code",
   "execution_count": 70,
   "id": "427359aa",
   "metadata": {},
   "outputs": [
    {
     "data": {
      "text/plain": [
       "'You Have a strong password!'"
      ]
     },
     "execution_count": 70,
     "metadata": {},
     "output_type": "execute_result"
    }
   ],
   "source": [
    "isStrong(\"Sharma12@9\")"
   ]
  },
  {
   "cell_type": "code",
   "execution_count": null,
   "id": "f0e1acca",
   "metadata": {},
   "outputs": [],
   "source": [
    "\"\"\"\n",
    "Write a python program that reads text from an input file (use your own input text file, and \n",
    "counts the number of times each alphabet is appearing in it, and \n",
    "displays the frequency of the occurrence of each alphabet in decreasing order of their frequency. \n",
    "Use dictionary data-structure to solve it, create an input file as given below\n",
    "\n",
    "Sample input file:\n",
    "My name is ….. (write your name).\n",
    "I have done my schooling from …… (write your school name).\n",
    "My hobbies are ….. (mention some).\n",
    "Nowadays, I am observing …… (think, think, and think, … \n",
    "mention one issue that you see around you which you think can be solved if you have all the related data)  \n",
    "\n",
    "\"\"\""
   ]
  },
  {
   "cell_type": "code",
   "execution_count": 71,
   "id": "4736795e",
   "metadata": {},
   "outputs": [],
   "source": [
    "def count_letters(filename):\n",
    "    letter_count = {}\n",
    "\n",
    "    with open(filename, 'r') as file:\n",
    "        for line in file:\n",
    "            for char in line.lower():\n",
    "                if char.isalpha():\n",
    "                    if char in letter_count:\n",
    "                        letter_count[char] += 1\n",
    "                    else:\n",
    "                        letter_count[char] = 1\n",
    "\n",
    "    sorted_letter_count = dict(sorted(letter_count.items(), key=lambda item: item[1], reverse=True))\n",
    "    \n",
    "    for letter, freq in sorted_letter_count.items():\n",
    "        print(f\"'{letter}': {freq}\")"
   ]
  },
  {
   "cell_type": "code",
   "execution_count": 72,
   "id": "ef59045f",
   "metadata": {},
   "outputs": [
    {
     "name": "stdout",
     "output_type": "stream",
     "text": [
      "'a': 34\n",
      "'o': 26\n",
      "'e': 25\n",
      "'n': 20\n",
      "'t': 19\n",
      "'s': 18\n",
      "'i': 17\n",
      "'r': 13\n",
      "'m': 11\n",
      "'h': 11\n",
      "'d': 9\n",
      "'l': 8\n",
      "'c': 6\n",
      "'b': 6\n",
      "'y': 5\n",
      "'v': 5\n",
      "'g': 5\n",
      "'f': 5\n",
      "'k': 3\n",
      "'w': 2\n",
      "'u': 2\n",
      "'j': 1\n",
      "'p': 1\n"
     ]
    }
   ],
   "source": [
    "filename = './input.txt'\n",
    "count_letters(filename)"
   ]
  },
  {
   "cell_type": "code",
   "execution_count": null,
   "id": "a77e07db",
   "metadata": {},
   "outputs": [],
   "source": []
  }
 ],
 "metadata": {
  "kernelspec": {
   "display_name": "Python 3 (ipykernel)",
   "language": "python",
   "name": "python3"
  },
  "language_info": {
   "codemirror_mode": {
    "name": "ipython",
    "version": 3
   },
   "file_extension": ".py",
   "mimetype": "text/x-python",
   "name": "python",
   "nbconvert_exporter": "python",
   "pygments_lexer": "ipython3",
   "version": "3.9.13"
  }
 },
 "nbformat": 4,
 "nbformat_minor": 5
}
